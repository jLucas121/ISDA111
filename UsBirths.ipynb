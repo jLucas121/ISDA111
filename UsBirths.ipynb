{
 "cells": [
  {
   "cell_type": "markdown",
   "metadata": {},
   "source": [
    "#### Introduction\n",
    "Across America, inequalities in regards to healthcare are still prevelant, particularly when it comes to child birth. This analysis will attempt to derive statistically some of the trends in child birth based on data from 2016 to 2021 in the US. "
   ]
  },
  {
   "cell_type": "markdown",
   "metadata": {},
   "source": [
    "#### Set up the notebook environment by importing the required libraries"
   ]
  },
  {
   "cell_type": "code",
   "execution_count": 8,
   "metadata": {},
   "outputs": [],
   "source": [
    "import pandas as pd #data processing for the CSV file\n",
    "import numpy as np #algebra\n",
    "import matplotlib.pyplot as mp #for visualizations\n",
    "import seaborn as sns #also for visualizations"
   ]
  },
  {
   "cell_type": "markdown",
   "metadata": {},
   "source": [
    "#### Read data"
   ]
  },
  {
   "cell_type": "code",
   "execution_count": 9,
   "metadata": {},
   "outputs": [],
   "source": [
    "data = pd.read_csv(r\"C:\\Users\\lsmit\\OneDrive\\Desktop\\UsBirthsProject_111\\usBirths.csv.csv\")"
   ]
  },
  {
   "cell_type": "code",
   "execution_count": 10,
   "metadata": {},
   "outputs": [
    {
     "data": {
      "text/html": [
       "<div>\n",
       "<style scoped>\n",
       "    .dataframe tbody tr th:only-of-type {\n",
       "        vertical-align: middle;\n",
       "    }\n",
       "\n",
       "    .dataframe tbody tr th {\n",
       "        vertical-align: top;\n",
       "    }\n",
       "\n",
       "    .dataframe thead th {\n",
       "        text-align: right;\n",
       "    }\n",
       "</style>\n",
       "<table border=\"1\" class=\"dataframe\">\n",
       "  <thead>\n",
       "    <tr style=\"text-align: right;\">\n",
       "      <th></th>\n",
       "      <th>State</th>\n",
       "      <th>State Abbreviation</th>\n",
       "      <th>Year</th>\n",
       "      <th>Gender</th>\n",
       "      <th>Education Level of Mother</th>\n",
       "      <th>Education Level Code</th>\n",
       "      <th>Number of Births</th>\n",
       "      <th>Average Age of Mother (years)</th>\n",
       "      <th>Average Birth Weight (g)</th>\n",
       "    </tr>\n",
       "  </thead>\n",
       "  <tbody>\n",
       "    <tr>\n",
       "      <th>0</th>\n",
       "      <td>Alabama</td>\n",
       "      <td>AL</td>\n",
       "      <td>2016</td>\n",
       "      <td>F</td>\n",
       "      <td>8th grade or less</td>\n",
       "      <td>1</td>\n",
       "      <td>1052</td>\n",
       "      <td>27.8</td>\n",
       "      <td>3116.9</td>\n",
       "    </tr>\n",
       "    <tr>\n",
       "      <th>1</th>\n",
       "      <td>Alabama</td>\n",
       "      <td>AL</td>\n",
       "      <td>2016</td>\n",
       "      <td>F</td>\n",
       "      <td>9th through 12th grade with no diploma</td>\n",
       "      <td>2</td>\n",
       "      <td>3436</td>\n",
       "      <td>24.1</td>\n",
       "      <td>3040.0</td>\n",
       "    </tr>\n",
       "    <tr>\n",
       "      <th>2</th>\n",
       "      <td>Alabama</td>\n",
       "      <td>AL</td>\n",
       "      <td>2016</td>\n",
       "      <td>F</td>\n",
       "      <td>High school graduate or GED completed</td>\n",
       "      <td>3</td>\n",
       "      <td>8777</td>\n",
       "      <td>25.4</td>\n",
       "      <td>3080.0</td>\n",
       "    </tr>\n",
       "    <tr>\n",
       "      <th>3</th>\n",
       "      <td>Alabama</td>\n",
       "      <td>AL</td>\n",
       "      <td>2016</td>\n",
       "      <td>F</td>\n",
       "      <td>Some college credit, but not a degree</td>\n",
       "      <td>4</td>\n",
       "      <td>6453</td>\n",
       "      <td>26.7</td>\n",
       "      <td>3121.9</td>\n",
       "    </tr>\n",
       "    <tr>\n",
       "      <th>4</th>\n",
       "      <td>Alabama</td>\n",
       "      <td>AL</td>\n",
       "      <td>2016</td>\n",
       "      <td>F</td>\n",
       "      <td>Associate degree (AA, AS)</td>\n",
       "      <td>5</td>\n",
       "      <td>2227</td>\n",
       "      <td>28.9</td>\n",
       "      <td>3174.3</td>\n",
       "    </tr>\n",
       "  </tbody>\n",
       "</table>\n",
       "</div>"
      ],
      "text/plain": [
       "     State State Abbreviation  Year Gender  \\\n",
       "0  Alabama                 AL  2016      F   \n",
       "1  Alabama                 AL  2016      F   \n",
       "2  Alabama                 AL  2016      F   \n",
       "3  Alabama                 AL  2016      F   \n",
       "4  Alabama                 AL  2016      F   \n",
       "\n",
       "                Education Level of Mother  Education Level Code  \\\n",
       "0                       8th grade or less                     1   \n",
       "1  9th through 12th grade with no diploma                     2   \n",
       "2   High school graduate or GED completed                     3   \n",
       "3   Some college credit, but not a degree                     4   \n",
       "4               Associate degree (AA, AS)                     5   \n",
       "\n",
       "   Number of Births  Average Age of Mother (years)  Average Birth Weight (g)  \n",
       "0              1052                           27.8                    3116.9  \n",
       "1              3436                           24.1                    3040.0  \n",
       "2              8777                           25.4                    3080.0  \n",
       "3              6453                           26.7                    3121.9  \n",
       "4              2227                           28.9                    3174.3  "
      ]
     },
     "execution_count": 10,
     "metadata": {},
     "output_type": "execute_result"
    }
   ],
   "source": [
    "data.head()"
   ]
  },
  {
   "cell_type": "markdown",
   "metadata": {},
   "source": [
    "### Variable Description\n",
    "-State  \n",
    "-State Abbreviation  \n",
    "-Year  \n",
    "-Gender  \n",
    "-Education Level of the Mother  \n",
    "-Education Level Code (the lower number equals less education)  \n",
    "-Number of Births  \n",
    "-Average age of Mother  \n",
    "-Average Birth Weight  \n",
    "\n",
    "**Features**: The dataset has the following data types that we will be using\n",
    "\n",
    "**Categorical/Nominal: Categories that have no inherent order or ranking.** -State, Gender\n",
    "\n",
    "**Ordinal: Categories that have a meaningful order or ranking, but the intervals between ranks are not uniform or meaningful.** -Education Level\n",
    "\n",
    "**Interval: Numeric values where the intervals between values are meaningful and equal, but there is no true zero** - Year\n",
    "\n",
    "**Ratio: Numeric values with a meaningful zero point and equal intervals between values.** -AVG birth weight, AVG age of mother, number of births\n",
    "\n",
    "**Useless Data:** - Education Level Code, state abbreviation\n",
    "\n",
    "\n",
    "\n"
   ]
  },
  {
   "cell_type": "markdown",
   "metadata": {},
   "source": [
    "####  Fetch some info about data by .info()"
   ]
  },
  {
   "cell_type": "code",
   "execution_count": 11,
   "metadata": {},
   "outputs": [
    {
     "name": "stdout",
     "output_type": "stream",
     "text": [
      "Shape of data is : (5496, 9)\n",
      "****************************************************************************************************\n",
      "<class 'pandas.core.frame.DataFrame'>\n",
      "RangeIndex: 5496 entries, 0 to 5495\n",
      "Data columns (total 9 columns):\n",
      " #   Column                         Non-Null Count  Dtype  \n",
      "---  ------                         --------------  -----  \n",
      " 0   State                          5496 non-null   object \n",
      " 1   State Abbreviation             5496 non-null   object \n",
      " 2   Year                           5496 non-null   int64  \n",
      " 3   Gender                         5496 non-null   object \n",
      " 4   Education Level of Mother      5496 non-null   object \n",
      " 5   Education Level Code           5496 non-null   int64  \n",
      " 6   Number of Births               5496 non-null   int64  \n",
      " 7   Average Age of Mother (years)  5496 non-null   float64\n",
      " 8   Average Birth Weight (g)       5496 non-null   float64\n",
      "dtypes: float64(2), int64(3), object(4)\n",
      "memory usage: 386.6+ KB\n"
     ]
    }
   ],
   "source": [
    "print(\"Shape of data is :\",data.shape)\n",
    "print(\"*\"*100)\n",
    "data.info()"
   ]
  },
  {
   "cell_type": "markdown",
   "metadata": {},
   "source": [
    "##### Observations:"
   ]
  },
  {
   "cell_type": "markdown",
   "metadata": {},
   "source": [
    "1. Our data has 5496 rows and 9 columns, meaning we have data on 5496 births. \n",
    "2. All columns show non-null values, meaning we are missing no values.\n",
    "3. All columns are appropriately typed, based on this fact, data is ready for analysis. \n",
    "4. float64(2): AVG age of mother, AVG birth weight\n",
    "5. int64(3): Num of births, Education level code(not used), Year\n",
    "6. object(4): State, State Abbreviation(not used), Gender, Education level of mother\n",
    "\n"
   ]
  },
  {
   "cell_type": "markdown",
   "metadata": {},
   "source": [
    "##### Questions to ask the Data:"
   ]
  },
  {
   "cell_type": "markdown",
   "metadata": {},
   "source": [
    "1. What state has the lowest average birth weight?\n",
    "2. What is the overall birth rate from year to year? \n",
    "3. What ecuation catagory has the highest / lowest number of births?\n",
    "4. What state has the highest / lowest birth rate per capita?\n",
    "5. ~~~~~~~Something like education level and corelation to birth count~~~~~~~~\n",
    "6. What states are facing a decline or rise in average birth weight?"
   ]
  },
  {
   "cell_type": "markdown",
   "metadata": {},
   "source": [
    "##### State with the Lowest Average Birth Weight:"
   ]
  },
  {
   "cell_type": "markdown",
   "metadata": {},
   "source": [
    "Starting with State with the Lowest Average Birth Weight, I am going to sum each states birth weights and divide by the count of State Births. This should give me the State with the Lowest Average Birth Weight."
   ]
  },
  {
   "cell_type": "code",
   "execution_count": 14,
   "metadata": {},
   "outputs": [
    {
     "name": "stdout",
     "output_type": "stream",
     "text": [
      "                      totalBirths  Average Birth Weight (g)\n",
      "State                                                      \n",
      "Alabama                    350169               3184.962896\n",
      "Alaska                      60398               3388.632456\n",
      "Arizona                    481353               3277.514747\n",
      "Arkansas                   220592               3226.978338\n",
      "California                2702751               3285.703391\n",
      "Colorado                   381192               3185.445039\n",
      "Connecticut                209349               3283.845901\n",
      "Delaware                    63904               3245.087386\n",
      "District of Columbia        55243               3204.622321\n",
      "Florida                   1316127               3234.383548\n",
      "Georgia                    758374               3196.788365\n",
      "Hawaii                     100750               3225.981882\n",
      "Idaho                      132089               3296.953799\n",
      "Illinois                   854265               3258.837252\n",
      "Indiana                    486328               3275.680524\n",
      "Iowa                       226216               3339.045528\n",
      "Kansas                     215309               3297.894538\n",
      "Kentucky                   321074               3256.681800\n",
      "Louisiana                  357517               3163.901380\n",
      "Maine                       72617               3339.231590\n",
      "Maryland                   422874               3254.422160\n",
      "Massachusetts              415810               3296.667085\n",
      "Michigan                   651713               3268.164428\n",
      "Minnesota                  399583               3344.070233\n",
      "Mississippi                219550               3138.525624\n",
      "Missouri                   431873               3263.488792\n",
      "Montana                     68657               3276.410662\n",
      "Nebraska                   151526               3306.719195\n",
      "Nevada                     210109               3211.286230\n",
      "New Hampshire               72633               3349.383717\n",
      "New Jersey                 604156               3260.249986\n",
      "New Mexico                 137752               3179.532135\n",
      "New York                  1331877               3256.805069\n",
      "North Carolina             715779               3241.685881\n",
      "North Dakota                63381               3338.185358\n",
      "Ohio                       803494               3258.273462\n",
      "Oklahoma                   297782               3256.366259\n",
      "Oregon                     253946               3337.716850\n",
      "Pennsylvania               810372               3273.972927\n",
      "Rhode Island                62682               3288.339724\n",
      "South Carolina             340967               3218.712311\n",
      "South Dakota                70080               3323.799152\n",
      "Tennessee                  483430               3237.803033\n",
      "Texas                     2278104               3232.782412\n",
      "Utah                       285498               3261.127262\n",
      "Vermont                     32721               3347.613539\n",
      "Virginia                   590697               3271.082300\n",
      "Washington                 516044               3338.450564\n",
      "West Virginia              108659               3233.849371\n",
      "Wisconsin                  381333               3311.283416\n",
      "Wyoming                     39781               3179.615153\n",
      "The lowest average birth weight:  3138.525623775905\n",
      "State with the lowest average birth weight:  Mississippi\n",
      "The highest average birth weight:  3388.6324563727276\n",
      "State with the highest average birth weight:  Alaska\n"
     ]
    }
   ],
   "source": [
    "# group states together by name, then sum the birth weights from each respective state and count the births of each individual state\n",
    "\n",
    "#data is the variable name of my dataset\n",
    "\n",
    "#I'm pulling from the state column, summing the count of births by state, then dividing count of births by total average birth weight\n",
    "\n",
    "result = data.groupby('State').agg(\n",
    "    totalBirthWeight = ('Average Birth Weight (g)', lambda x: (x * data.loc[x.index, 'Number of Births']).sum()),\n",
    "    totalBirths = ('Number of Births', 'sum')\n",
    ")\n",
    "\n",
    "#calculate the average birth weight\n",
    "result['Average Birth Weight (g)'] = result['totalBirthWeight'] / result['totalBirths']\n",
    "result = result.drop(columns = ['totalBirthWeight'])\n",
    "\n",
    "print(result)\n",
    "\n",
    "lowestAvgbirthWeight = result['Average Birth Weight (g)'].min()\n",
    "lowestAvgbirthWeightState = result['Average Birth Weight (g)'].idxmin()\n",
    "\n",
    "highestAvgbirthWeight = result['Average Birth Weight (g)'].max()\n",
    "highestAvgbirthWeightState = result['Average Birth Weight (g)'].idxmax()\n",
    "\n",
    "print(\"The lowest average birth weight: \", (lowestAvgbirthWeight))\n",
    "print(\"State with the lowest average birth weight: \", (lowestAvgbirthWeightState))\n",
    "\n",
    "print(\"The highest average birth weight: \",(highestAvgbirthWeight))\n",
    "print(\"State with the highest average birth weight: \", (highestAvgbirthWeightState))\n",
    "\n"
   ]
  },
  {
   "cell_type": "markdown",
   "metadata": {},
   "source": [
    "#### Visualization On Average Birth Weight By State"
   ]
  },
  {
   "cell_type": "code",
   "execution_count": 13,
   "metadata": {},
   "outputs": [
    {
     "data": {
      "text/plain": [
       "Text(0.5, 1.0, 'Distribution of Total Births and Average Birth Weight')"
      ]
     },
     "execution_count": 13,
     "metadata": {},
     "output_type": "execute_result"
    },
    {
     "data": {
      "image/png": "[encoded data removed]",
      "text/plain": [
       "<Figure size 500x500 with 1 Axes>"
      ]
     },
     "metadata": {},
     "output_type": "display_data"
    }
   ],
   "source": [
    "sns.displot(data, y = 'Average Birth Weight (g)', kind = \"hist\" )\n",
    "\n",
    "mp.xlabel('Total Births')\n",
    "mp.ylabel('Average Birth Weight (g)')\n",
    "mp.title('Distribution of Total Births and Average Birth Weight')"
   ]
  }
 ],
 "metadata": {
  "kernelspec": {
   "display_name": "Python 3",
   "language": "python",
   "name": "python3"
  },
  "language_info": {
   "codemirror_mode": {
    "name": "ipython",
    "version": 3
   },
   "file_extension": ".py",
   "mimetype": "text/x-python",
   "name": "python",
   "nbconvert_exporter": "python",
   "pygments_lexer": "ipython3",
   "version": "3.11.9"
  }
 },
 "nbformat": 4,
 "nbformat_minor": 2
}
